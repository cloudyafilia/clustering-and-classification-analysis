{
  "nbformat": 4,
  "nbformat_minor": 0,
  "metadata": {
    "colab": {
      "provenance": []
    },
    "kernelspec": {
      "name": "python3",
      "display_name": "Python 3"
    },
    "language_info": {
      "name": "python"
    }
  },
  "cells": [
    {
      "cell_type": "markdown",
      "source": [
        "# **1. Import Library**"
      ],
      "metadata": {
        "id": "fKADPWcFKlj3"
      }
    },
    {
      "cell_type": "markdown",
      "source": [
        "Pada tahap ini, Anda perlu mengimpor beberapa pustaka (library) Python yang dibutuhkan untuk analisis data dan pembangunan model machine learning."
      ],
      "metadata": {
        "id": "LgA3ERnVn84N"
      }
    },
    {
      "cell_type": "code",
      "source": [
        "import pandas as pd\n",
        "import seaborn as sns\n",
        "import matplotlib.pyplot as plt\n",
        "import numpy as np\n",
        "\n",
        "from sklearn.model_selection import train_test_split, GridSearchCV\n",
        "from sklearn.preprocessing import LabelEncoder, StandardScaler, MinMaxScaler\n",
        "from sklearn.neighbors import KNeighborsClassifier\n",
        "from sklearn.tree import DecisionTreeClassifier\n",
        "from sklearn.ensemble import RandomForestClassifier\n",
        "from sklearn.svm import SVC\n",
        "from sklearn.naive_bayes import GaussianNB\n",
        "from sklearn.model_selection import GridSearchCV\n",
        "from sklearn.model_selection import RandomizedSearchCV\n",
        "from sklearn.metrics import confusion_matrix, accuracy_score, precision_score, recall_score, f1_score, classification_report, ConfusionMatrixDisplay"
      ],
      "metadata": {
        "id": "BlmvjLY9M4Yj"
      },
      "execution_count": 1,
      "outputs": []
    },
    {
      "cell_type": "markdown",
      "source": [
        "# **2. Memuat Dataset dari Hasil Clustering**"
      ],
      "metadata": {
        "id": "f3YIEnAFKrKL"
      }
    },
    {
      "cell_type": "markdown",
      "source": [
        "Memuat dataset hasil clustering dari file CSV ke dalam variabel DataFrame."
      ],
      "metadata": {
        "id": "Ey3ItwTen_7E"
      }
    },
    {
      "cell_type": "code",
      "source": [
        "def load_dataset():\n",
        "    df = pd.read_csv(\"gun_clustered.csv\")\n",
        "    print(f\"✅ Data loaded! Ukuran: {df.shape}\")\n",
        "    return df\n",
        "\n",
        "df = load_dataset()\n",
        "df.head()"
      ],
      "metadata": {
        "id": "GHCGNTyrM5fS",
        "colab": {
          "base_uri": "https://localhost:8080/",
          "height": 224
        },
        "outputId": "a4b48c8f-eadd-4133-dbc1-7b5e1ebe663a"
      },
      "execution_count": 2,
      "outputs": [
        {
          "output_type": "stream",
          "name": "stdout",
          "text": [
            "✅ Data loaded! Ukuran: (9692, 6)\n"
          ]
        },
        {
          "output_type": "execute_result",
          "data": {
            "text/plain": [
              "    Age    Reason     Education     Sex  Place of incident  cluster\n",
              "0  60.0   Suicide   High School  Female               Home        2\n",
              "1  52.0   Suicide  Some college    Male    Other specified        1\n",
              "2  37.0  Homicide  Some college    Male             Street        3\n",
              "3  74.0  Homicide   High School    Male  Other unspecified        0\n",
              "4  28.0  Homicide  Some college    Male  Other unspecified        3"
            ],
            "text/html": [
              "\n",
              "  <div id=\"df-4bc2b466-f308-4ab0-8148-8b4343d669b7\" class=\"colab-df-container\">\n",
              "    <div>\n",
              "<style scoped>\n",
              "    .dataframe tbody tr th:only-of-type {\n",
              "        vertical-align: middle;\n",
              "    }\n",
              "\n",
              "    .dataframe tbody tr th {\n",
              "        vertical-align: top;\n",
              "    }\n",
              "\n",
              "    .dataframe thead th {\n",
              "        text-align: right;\n",
              "    }\n",
              "</style>\n",
              "<table border=\"1\" class=\"dataframe\">\n",
              "  <thead>\n",
              "    <tr style=\"text-align: right;\">\n",
              "      <th></th>\n",
              "      <th>Age</th>\n",
              "      <th>Reason</th>\n",
              "      <th>Education</th>\n",
              "      <th>Sex</th>\n",
              "      <th>Place of incident</th>\n",
              "      <th>cluster</th>\n",
              "    </tr>\n",
              "  </thead>\n",
              "  <tbody>\n",
              "    <tr>\n",
              "      <th>0</th>\n",
              "      <td>60.0</td>\n",
              "      <td>Suicide</td>\n",
              "      <td>High School</td>\n",
              "      <td>Female</td>\n",
              "      <td>Home</td>\n",
              "      <td>2</td>\n",
              "    </tr>\n",
              "    <tr>\n",
              "      <th>1</th>\n",
              "      <td>52.0</td>\n",
              "      <td>Suicide</td>\n",
              "      <td>Some college</td>\n",
              "      <td>Male</td>\n",
              "      <td>Other specified</td>\n",
              "      <td>1</td>\n",
              "    </tr>\n",
              "    <tr>\n",
              "      <th>2</th>\n",
              "      <td>37.0</td>\n",
              "      <td>Homicide</td>\n",
              "      <td>Some college</td>\n",
              "      <td>Male</td>\n",
              "      <td>Street</td>\n",
              "      <td>3</td>\n",
              "    </tr>\n",
              "    <tr>\n",
              "      <th>3</th>\n",
              "      <td>74.0</td>\n",
              "      <td>Homicide</td>\n",
              "      <td>High School</td>\n",
              "      <td>Male</td>\n",
              "      <td>Other unspecified</td>\n",
              "      <td>0</td>\n",
              "    </tr>\n",
              "    <tr>\n",
              "      <th>4</th>\n",
              "      <td>28.0</td>\n",
              "      <td>Homicide</td>\n",
              "      <td>Some college</td>\n",
              "      <td>Male</td>\n",
              "      <td>Other unspecified</td>\n",
              "      <td>3</td>\n",
              "    </tr>\n",
              "  </tbody>\n",
              "</table>\n",
              "</div>\n",
              "    <div class=\"colab-df-buttons\">\n",
              "\n",
              "  <div class=\"colab-df-container\">\n",
              "    <button class=\"colab-df-convert\" onclick=\"convertToInteractive('df-4bc2b466-f308-4ab0-8148-8b4343d669b7')\"\n",
              "            title=\"Convert this dataframe to an interactive table.\"\n",
              "            style=\"display:none;\">\n",
              "\n",
              "  <svg xmlns=\"http://www.w3.org/2000/svg\" height=\"24px\" viewBox=\"0 -960 960 960\">\n",
              "    <path d=\"M120-120v-720h720v720H120Zm60-500h600v-160H180v160Zm220 220h160v-160H400v160Zm0 220h160v-160H400v160ZM180-400h160v-160H180v160Zm440 0h160v-160H620v160ZM180-180h160v-160H180v160Zm440 0h160v-160H620v160Z\"/>\n",
              "  </svg>\n",
              "    </button>\n",
              "\n",
              "  <style>\n",
              "    .colab-df-container {\n",
              "      display:flex;\n",
              "      gap: 12px;\n",
              "    }\n",
              "\n",
              "    .colab-df-convert {\n",
              "      background-color: #E8F0FE;\n",
              "      border: none;\n",
              "      border-radius: 50%;\n",
              "      cursor: pointer;\n",
              "      display: none;\n",
              "      fill: #1967D2;\n",
              "      height: 32px;\n",
              "      padding: 0 0 0 0;\n",
              "      width: 32px;\n",
              "    }\n",
              "\n",
              "    .colab-df-convert:hover {\n",
              "      background-color: #E2EBFA;\n",
              "      box-shadow: 0px 1px 2px rgba(60, 64, 67, 0.3), 0px 1px 3px 1px rgba(60, 64, 67, 0.15);\n",
              "      fill: #174EA6;\n",
              "    }\n",
              "\n",
              "    .colab-df-buttons div {\n",
              "      margin-bottom: 4px;\n",
              "    }\n",
              "\n",
              "    [theme=dark] .colab-df-convert {\n",
              "      background-color: #3B4455;\n",
              "      fill: #D2E3FC;\n",
              "    }\n",
              "\n",
              "    [theme=dark] .colab-df-convert:hover {\n",
              "      background-color: #434B5C;\n",
              "      box-shadow: 0px 1px 3px 1px rgba(0, 0, 0, 0.15);\n",
              "      filter: drop-shadow(0px 1px 2px rgba(0, 0, 0, 0.3));\n",
              "      fill: #FFFFFF;\n",
              "    }\n",
              "  </style>\n",
              "\n",
              "    <script>\n",
              "      const buttonEl =\n",
              "        document.querySelector('#df-4bc2b466-f308-4ab0-8148-8b4343d669b7 button.colab-df-convert');\n",
              "      buttonEl.style.display =\n",
              "        google.colab.kernel.accessAllowed ? 'block' : 'none';\n",
              "\n",
              "      async function convertToInteractive(key) {\n",
              "        const element = document.querySelector('#df-4bc2b466-f308-4ab0-8148-8b4343d669b7');\n",
              "        const dataTable =\n",
              "          await google.colab.kernel.invokeFunction('convertToInteractive',\n",
              "                                                    [key], {});\n",
              "        if (!dataTable) return;\n",
              "\n",
              "        const docLinkHtml = 'Like what you see? Visit the ' +\n",
              "          '<a target=\"_blank\" href=https://colab.research.google.com/notebooks/data_table.ipynb>data table notebook</a>'\n",
              "          + ' to learn more about interactive tables.';\n",
              "        element.innerHTML = '';\n",
              "        dataTable['output_type'] = 'display_data';\n",
              "        await google.colab.output.renderOutput(dataTable, element);\n",
              "        const docLink = document.createElement('div');\n",
              "        docLink.innerHTML = docLinkHtml;\n",
              "        element.appendChild(docLink);\n",
              "      }\n",
              "    </script>\n",
              "  </div>\n",
              "\n",
              "\n",
              "<div id=\"df-f2dea607-52c7-417a-bd94-bdf6430cb9c9\">\n",
              "  <button class=\"colab-df-quickchart\" onclick=\"quickchart('df-f2dea607-52c7-417a-bd94-bdf6430cb9c9')\"\n",
              "            title=\"Suggest charts\"\n",
              "            style=\"display:none;\">\n",
              "\n",
              "<svg xmlns=\"http://www.w3.org/2000/svg\" height=\"24px\"viewBox=\"0 0 24 24\"\n",
              "     width=\"24px\">\n",
              "    <g>\n",
              "        <path d=\"M19 3H5c-1.1 0-2 .9-2 2v14c0 1.1.9 2 2 2h14c1.1 0 2-.9 2-2V5c0-1.1-.9-2-2-2zM9 17H7v-7h2v7zm4 0h-2V7h2v10zm4 0h-2v-4h2v4z\"/>\n",
              "    </g>\n",
              "</svg>\n",
              "  </button>\n",
              "\n",
              "<style>\n",
              "  .colab-df-quickchart {\n",
              "      --bg-color: #E8F0FE;\n",
              "      --fill-color: #1967D2;\n",
              "      --hover-bg-color: #E2EBFA;\n",
              "      --hover-fill-color: #174EA6;\n",
              "      --disabled-fill-color: #AAA;\n",
              "      --disabled-bg-color: #DDD;\n",
              "  }\n",
              "\n",
              "  [theme=dark] .colab-df-quickchart {\n",
              "      --bg-color: #3B4455;\n",
              "      --fill-color: #D2E3FC;\n",
              "      --hover-bg-color: #434B5C;\n",
              "      --hover-fill-color: #FFFFFF;\n",
              "      --disabled-bg-color: #3B4455;\n",
              "      --disabled-fill-color: #666;\n",
              "  }\n",
              "\n",
              "  .colab-df-quickchart {\n",
              "    background-color: var(--bg-color);\n",
              "    border: none;\n",
              "    border-radius: 50%;\n",
              "    cursor: pointer;\n",
              "    display: none;\n",
              "    fill: var(--fill-color);\n",
              "    height: 32px;\n",
              "    padding: 0;\n",
              "    width: 32px;\n",
              "  }\n",
              "\n",
              "  .colab-df-quickchart:hover {\n",
              "    background-color: var(--hover-bg-color);\n",
              "    box-shadow: 0 1px 2px rgba(60, 64, 67, 0.3), 0 1px 3px 1px rgba(60, 64, 67, 0.15);\n",
              "    fill: var(--button-hover-fill-color);\n",
              "  }\n",
              "\n",
              "  .colab-df-quickchart-complete:disabled,\n",
              "  .colab-df-quickchart-complete:disabled:hover {\n",
              "    background-color: var(--disabled-bg-color);\n",
              "    fill: var(--disabled-fill-color);\n",
              "    box-shadow: none;\n",
              "  }\n",
              "\n",
              "  .colab-df-spinner {\n",
              "    border: 2px solid var(--fill-color);\n",
              "    border-color: transparent;\n",
              "    border-bottom-color: var(--fill-color);\n",
              "    animation:\n",
              "      spin 1s steps(1) infinite;\n",
              "  }\n",
              "\n",
              "  @keyframes spin {\n",
              "    0% {\n",
              "      border-color: transparent;\n",
              "      border-bottom-color: var(--fill-color);\n",
              "      border-left-color: var(--fill-color);\n",
              "    }\n",
              "    20% {\n",
              "      border-color: transparent;\n",
              "      border-left-color: var(--fill-color);\n",
              "      border-top-color: var(--fill-color);\n",
              "    }\n",
              "    30% {\n",
              "      border-color: transparent;\n",
              "      border-left-color: var(--fill-color);\n",
              "      border-top-color: var(--fill-color);\n",
              "      border-right-color: var(--fill-color);\n",
              "    }\n",
              "    40% {\n",
              "      border-color: transparent;\n",
              "      border-right-color: var(--fill-color);\n",
              "      border-top-color: var(--fill-color);\n",
              "    }\n",
              "    60% {\n",
              "      border-color: transparent;\n",
              "      border-right-color: var(--fill-color);\n",
              "    }\n",
              "    80% {\n",
              "      border-color: transparent;\n",
              "      border-right-color: var(--fill-color);\n",
              "      border-bottom-color: var(--fill-color);\n",
              "    }\n",
              "    90% {\n",
              "      border-color: transparent;\n",
              "      border-bottom-color: var(--fill-color);\n",
              "    }\n",
              "  }\n",
              "</style>\n",
              "\n",
              "  <script>\n",
              "    async function quickchart(key) {\n",
              "      const quickchartButtonEl =\n",
              "        document.querySelector('#' + key + ' button');\n",
              "      quickchartButtonEl.disabled = true;  // To prevent multiple clicks.\n",
              "      quickchartButtonEl.classList.add('colab-df-spinner');\n",
              "      try {\n",
              "        const charts = await google.colab.kernel.invokeFunction(\n",
              "            'suggestCharts', [key], {});\n",
              "      } catch (error) {\n",
              "        console.error('Error during call to suggestCharts:', error);\n",
              "      }\n",
              "      quickchartButtonEl.classList.remove('colab-df-spinner');\n",
              "      quickchartButtonEl.classList.add('colab-df-quickchart-complete');\n",
              "    }\n",
              "    (() => {\n",
              "      let quickchartButtonEl =\n",
              "        document.querySelector('#df-f2dea607-52c7-417a-bd94-bdf6430cb9c9 button');\n",
              "      quickchartButtonEl.style.display =\n",
              "        google.colab.kernel.accessAllowed ? 'block' : 'none';\n",
              "    })();\n",
              "  </script>\n",
              "</div>\n",
              "\n",
              "    </div>\n",
              "  </div>\n"
            ],
            "application/vnd.google.colaboratory.intrinsic+json": {
              "type": "dataframe",
              "variable_name": "df",
              "summary": "{\n  \"name\": \"df\",\n  \"rows\": 9692,\n  \"fields\": [\n    {\n      \"column\": \"Age\",\n      \"properties\": {\n        \"dtype\": \"number\",\n        \"std\": 19.603421671858513,\n        \"min\": 1.0,\n        \"max\": 99.0,\n        \"num_unique_values\": 98,\n        \"samples\": [\n          71.00000000000001,\n          18.0,\n          11.0\n        ],\n        \"semantic_type\": \"\",\n        \"description\": \"\"\n      }\n    },\n    {\n      \"column\": \"Reason\",\n      \"properties\": {\n        \"dtype\": \"category\",\n        \"num_unique_values\": 4,\n        \"samples\": [\n          \"Homicide\",\n          \"Accidental\",\n          \"Suicide\"\n        ],\n        \"semantic_type\": \"\",\n        \"description\": \"\"\n      }\n    },\n    {\n      \"column\": \"Education\",\n      \"properties\": {\n        \"dtype\": \"category\",\n        \"num_unique_values\": 4,\n        \"samples\": [\n          \"Some college\",\n          \"Bachelors\",\n          \"High School\"\n        ],\n        \"semantic_type\": \"\",\n        \"description\": \"\"\n      }\n    },\n    {\n      \"column\": \"Sex\",\n      \"properties\": {\n        \"dtype\": \"category\",\n        \"num_unique_values\": 2,\n        \"samples\": [\n          \"Male\",\n          \"Female\"\n        ],\n        \"semantic_type\": \"\",\n        \"description\": \"\"\n      }\n    },\n    {\n      \"column\": \"Place of incident\",\n      \"properties\": {\n        \"dtype\": \"category\",\n        \"num_unique_values\": 10,\n        \"samples\": [\n          \"Farm\",\n          \"Other specified\"\n        ],\n        \"semantic_type\": \"\",\n        \"description\": \"\"\n      }\n    },\n    {\n      \"column\": \"cluster\",\n      \"properties\": {\n        \"dtype\": \"number\",\n        \"std\": 0,\n        \"min\": 0,\n        \"max\": 3,\n        \"num_unique_values\": 4,\n        \"samples\": [\n          1,\n          0\n        ],\n        \"semantic_type\": \"\",\n        \"description\": \"\"\n      }\n    }\n  ]\n}"
            }
          },
          "metadata": {},
          "execution_count": 2
        }
      ]
    },
    {
      "cell_type": "code",
      "source": [
        "# 1️⃣ Identifikasi Kolom Kategorikal\n",
        "categorical_cols = df.select_dtypes(include=['object']).columns.tolist()\n",
        "\n",
        "# 2️⃣ Label Encoding untuk Mengubah Kategori menjadi Numerik\n",
        "label_encoders = {}\n",
        "for col in categorical_cols:\n",
        "    le = LabelEncoder()\n",
        "    df[col] = le.fit_transform(df[col])\n",
        "    label_encoders[col] = le\n",
        "\n",
        "# 5️⃣ Menyimpan Data dalam Format Numerik\n",
        "df.to_csv(\"data_numerik.csv\", index=False)\n",
        "print(\"✅ Semua data telah dikonversi ke numerik dan disimpan sebagai 'data_numerik.csv'.\")\n",
        "\n",
        "# 6️⃣ Menampilkan Data Numerik\n",
        "print(\"\\n Data dalam Format Numerik:\")\n",
        "print(df.head())\n"
      ],
      "metadata": {
        "colab": {
          "base_uri": "https://localhost:8080/"
        },
        "id": "V7klVdxO0txO",
        "outputId": "956c6014-beae-4e72-998f-179a42e96c4f"
      },
      "execution_count": 3,
      "outputs": [
        {
          "output_type": "stream",
          "name": "stdout",
          "text": [
            "✅ Semua data telah dikonversi ke numerik dan disimpan sebagai 'data_numerik.csv'.\n",
            "\n",
            " Data dalam Format Numerik:\n",
            "    Age  Reason  Education  Sex  Place of incident  cluster\n",
            "0  60.0       2          1    0                  1        2\n",
            "1  52.0       2          3    1                  3        1\n",
            "2  37.0       1          3    1                  8        3\n",
            "3  74.0       1          1    1                  4        0\n",
            "4  28.0       1          3    1                  4        3\n"
          ]
        }
      ]
    },
    {
      "cell_type": "markdown",
      "source": [
        "# **3. Data Splitting**"
      ],
      "metadata": {
        "id": "KkPem5eWL2UP"
      }
    },
    {
      "cell_type": "markdown",
      "source": [
        "Tahap Data Splitting bertujuan untuk memisahkan dataset menjadi dua bagian: data latih (training set) dan data uji (test set)."
      ],
      "metadata": {
        "id": "YYj1rl_JNI9Y"
      }
    },
    {
      "cell_type": "code",
      "source": [
        "# Memisahkan fitur (X) dan target(y ='cluster')\n",
        "X = df.drop(['cluster'], axis=1)\n",
        "y = df['cluster']\n",
        "\n",
        "# Split data\n",
        "X_train, X_test, y_train, y_test = train_test_split(X, y, test_size=0.2, random_state=42)\n",
        "print(f\"Jumlah data latih: {len(X_train)}\")\n",
        "print(f\"Jumlah data uji: {len(X_test)}\")"
      ],
      "metadata": {
        "id": "51wXqSf36gJc",
        "colab": {
          "base_uri": "https://localhost:8080/"
        },
        "outputId": "ba1d6942-a928-444c-8da9-6b4303192c49"
      },
      "execution_count": 27,
      "outputs": [
        {
          "output_type": "stream",
          "name": "stdout",
          "text": [
            "Jumlah data latih: 7753\n",
            "Jumlah data uji: 1939\n"
          ]
        }
      ]
    },
    {
      "cell_type": "markdown",
      "source": [
        "# **4. Membangun Model Klasifikasi**\n"
      ],
      "metadata": {
        "id": "IVPbB03CMhTT"
      }
    },
    {
      "cell_type": "markdown",
      "source": [
        "## **a. Membangun Model Klasifikasi**"
      ],
      "metadata": {
        "id": "Ned1pL9zMmBK"
      }
    },
    {
      "cell_type": "markdown",
      "source": [
        "Setelah memilih algoritma klasifikasi yang sesuai, langkah selanjutnya adalah melatih model menggunakan data latih.\n",
        "\n",
        "Berikut adalah rekomendasi tahapannya.\n",
        "1. Pilih algoritma klasifikasi yang sesuai, seperti Logistic Regression, Decision Tree, Random Forest, atau K-Nearest Neighbors (KNN).\n",
        "2. Latih model menggunakan data latih."
      ],
      "metadata": {
        "id": "WAWzPOE4Nkti"
      }
    },
    {
      "cell_type": "code",
      "source": [
        "# Training model\n",
        "dt = DecisionTreeClassifier().fit(X_train, y_train)\n",
        "svm = SVC().fit(X_train, y_train)\n",
        "nb = GaussianNB().fit(X_train, y_train)\n",
        "knn = KNeighborsClassifier().fit(X_train, y_train)\n",
        "rf = RandomForestClassifier().fit(X_train, y_train)\n",
        "\n",
        "\n",
        "print(\"Model training selesai.\")"
      ],
      "metadata": {
        "id": "MCn_Lvwm7FKi",
        "colab": {
          "base_uri": "https://localhost:8080/"
        },
        "outputId": "61af737f-e142-492f-bcf0-830b32728ab5"
      },
      "execution_count": 5,
      "outputs": [
        {
          "output_type": "stream",
          "name": "stdout",
          "text": [
            "Model training selesai.\n"
          ]
        }
      ]
    },
    {
      "cell_type": "markdown",
      "source": [
        "Tulis narasi atau penjelasan algoritma yang Anda gunakan."
      ],
      "metadata": {
        "id": "seYoHNY3XU1y"
      }
    },
    {
      "cell_type": "markdown",
      "source": [
        "### Algoritma yang Digunakan\n",
        "\n",
        "Dalam proses klasifikasi ini, digunakan lima algoritma machine learning yang umum digunakan, yaitu **Decision Tree, Support Vector Machine (SVM), Naive Bayes, K-Nearest Neighbors (KNN), dan Random Forest.** Decision Tree bekerja dengan membuat pohon keputusan berdasarkan fitur-fitur pada data untuk memprediksi kelas target. SVM berupaya mencari hyperplane terbaik yang memisahkan kelas-kelas data dengan margin maksimal. Naive Bayes menerapkan prinsip probabilistik dengan asumsi independensi antar fitur, berdasarkan Teorema Bayes. KNN mengklasifikasikan data berdasarkan kedekatan atau jarak ke tetangga terdekat dalam ruang fitur. Sementara itu, Random Forest merupakan metode ensemble yang membentuk banyak pohon keputusan dan menggabungkan hasilnya untuk meningkatkan akurasi serta mengurangi risiko overfitting. Kelima algoritma ini dilatih menggunakan data latih untuk mempelajari pola yang ada sebelum dilakukan evaluasi performa."
      ],
      "metadata": {
        "id": "kavmbFLTW1PH"
      }
    },
    {
      "cell_type": "markdown",
      "source": [
        "## **b. Evaluasi Model Klasifikasi**"
      ],
      "metadata": {
        "id": "ergzChZFEL-O"
      }
    },
    {
      "cell_type": "markdown",
      "source": [
        "Berikut adalah **rekomendasi** tahapannya.\n",
        "1. Lakukan prediksi menggunakan data uji.\n",
        "2. Hitung metrik evaluasi seperti Accuracy dan F1-Score (Opsional: Precision dan Recall).\n",
        "3. Buat confusion matrix untuk melihat detail prediksi benar dan salah."
      ],
      "metadata": {
        "id": "zOm68u-7NpLT"
      }
    },
    {
      "cell_type": "code",
      "source": [
        "# Prediksi dengan Data Uji\n",
        "def evaluate_model(model, X_test, y_test):\n",
        "    y_pred = model.predict(X_test)\n",
        "    results = {\n",
        "        'Confusion Matrix': confusion_matrix(y_test, y_pred),\n",
        "        'Accuracy': accuracy_score(y_test, y_pred),\n",
        "        'Precision': precision_score(y_test, y_pred, average='weighted'),\n",
        "        'Recall': recall_score(y_test, y_pred, average='weighted'),\n",
        "        'F1-Score': f1_score(y_test, y_pred, average='weighted')\n",
        "    }\n",
        "    return results"
      ],
      "metadata": {
        "id": "tMq4QAssNLip"
      },
      "execution_count": 6,
      "outputs": []
    },
    {
      "cell_type": "code",
      "source": [
        "# Mengevaluasi setiap model dan mengumpulkan hasilnya\n",
        "results = {\n",
        "    'Decision Tree (DT)': evaluate_model(dt, X_test, y_test),\n",
        "    'Support Vector Machine (SVM)': evaluate_model(svm, X_test, y_test),\n",
        "    'Naive Bayes (NB)': evaluate_model(nb, X_test, y_test),\n",
        "    'K-Nearest Neighbors (KNN)': evaluate_model(knn, X_test, y_test),\n",
        "    'Random Forest (RF)': evaluate_model(rf, X_test, y_test)\n",
        "}\n",
        "\n",
        "summary_df = pd.DataFrame(columns=['Model', 'Accuracy', 'Precision', 'Recall', 'F1-Score'])"
      ],
      "metadata": {
        "id": "jlzYmyPZQQTh"
      },
      "execution_count": 7,
      "outputs": []
    },
    {
      "cell_type": "code",
      "source": [
        "# Membuat DataFrame\n",
        "rows = []\n",
        "for model_name, metrics in results.items():\n",
        "    rows.append({\n",
        "        'Model': model_name,\n",
        "        'Accuracy': metrics['Accuracy'],\n",
        "        'Precision': metrics['Precision'],\n",
        "        'Recall': metrics['Recall'],\n",
        "        'F1-Score': metrics['F1-Score']\n",
        "    })\n",
        "\n",
        "summary_df = pd.DataFrame(rows)\n",
        "print(summary_df)"
      ],
      "metadata": {
        "colab": {
          "base_uri": "https://localhost:8080/"
        },
        "id": "_10kmav_CySh",
        "outputId": "1e18f775-ca6d-4a33-ad27-aa8448b160f4"
      },
      "execution_count": 9,
      "outputs": [
        {
          "output_type": "stream",
          "name": "stdout",
          "text": [
            "                          Model  Accuracy  Precision    Recall  F1-Score\n",
            "0            Decision Tree (DT)  0.999484   0.999485  0.999484  0.999484\n",
            "1  Support Vector Machine (SVM)  0.722022   0.757779  0.722022  0.725656\n",
            "2              Naive Bayes (NB)  0.987622   0.987736  0.987622  0.987642\n",
            "3     K-Nearest Neighbors (KNN)  0.920578   0.921449  0.920578  0.920048\n",
            "4            Random Forest (RF)  0.996906   0.996924  0.996906  0.996902\n"
          ]
        }
      ]
    },
    {
      "cell_type": "code",
      "source": [
        "# Visualisasi plot confusion matrix\n",
        "def plot_confusion_matrix(cm, model_name):\n",
        "    plt.figure(figsize=(6, 5))\n",
        "    sns.heatmap(cm, annot=True, fmt='d', cmap='YlOrRd', linewidths=0.5, linecolor='gray')\n",
        "    plt.title(f'Confusion Matrix: {model_name}', fontsize=14)\n",
        "    plt.xlabel('Prediksi', fontsize=12)\n",
        "    plt.ylabel('Aktual', fontsize=12)\n",
        "    plt.show()\n",
        "\n",
        "# Plot untuk setiap model\n",
        "for model_name, metrics in results.items():\n",
        "    cm = metrics['Confusion Matrix']\n",
        "    plot_confusion_matrix(cm, model_name)"
      ],
      "metadata": {
        "colab": {
          "base_uri": "https://localhost:8080/",
          "height": 1000
        },
        "id": "Nh97dOe7Ksy4",
        "outputId": "52e7c6be-17e4-40cc-fa66-8d5fee441ee7"
      },
      "execution_count": 10,
      "outputs": [
        {
          "output_type": "display_data",
          "data": {
            "text/plain": [
              "<Figure size 600x500 with 2 Axes>"
            ],
            "image/png": "[encoded data removed]"
          },
          "metadata": {}
        },
        {
          "output_type": "display_data",
          "data": {
            "text/plain": [
              "<Figure size 600x500 with 2 Axes>"
            ],
            "image/png": "[encoded data removed]"
          },
          "metadata": {}
        },
        {
          "output_type": "display_data",
          "data": {
            "text/plain": [
              "<Figure size 600x500 with 2 Axes>"
            ],
            "image/png": "[encoded data removed]"
          },
          "metadata": {}
        },
        {
          "output_type": "display_data",
          "data": {
            "text/plain": [
              "<Figure size 600x500 with 2 Axes>"
            ],
            "image/png": "[encoded data removed]"
          },
          "metadata": {}
        },
        {
          "output_type": "display_data",
          "data": {
            "text/plain": [
              "<Figure size 600x500 with 2 Axes>"
            ],
            "image/png": "[encoded data removed]"
          },
          "metadata": {}
        }
      ]
    },
    {
      "cell_type": "markdown",
      "source": [
        "Tulis hasil evaluasi algoritma yang digunakan, jika Anda menggunakan 2 algoritma, maka bandingkan hasilnya."
      ],
      "metadata": {
        "id": "H4_9OwrsXZlz"
      }
    },
    {
      "cell_type": "markdown",
      "source": [
        "### Hasil Evaluasi\n",
        "\n",
        "Berdasarkan hasil evaluasi sebelum tuning, algoritma **Decision Tree (DT) menunjukkan performa paling tinggi** dengan akurasi hampir sempurna, disusul oleh Random Forest (RF) yang selisihnya sangat tipis. Kedua model ini mampu mengklasifikasikan data secara sangat akurat dan konsisten. Naive Bayes (NB) menempati posisi ketiga dengan performa cukup tinggi, meskipun masih di bawah DT dan RF. Sementara itu, K-Nearest Neighbors (KNN) menunjukkan hasil yang cukup baik namun belum mampu menyamai ketepatan DT, RF, maupun NB. Support Vector Machine (SVM) menjadi model dengan performa paling rendah dalam klasifikasi data, menandakan perlunya peningkatan signifikan. Oleh karena itu, seluruh model tetap perlu dilakukan tuning untuk memaksimalkan kinerja, terutama pada model yang masih menunjukkan akurasi rendah."
      ],
      "metadata": {
        "id": "sE1VYiyYWMv-"
      }
    },
    {
      "cell_type": "markdown",
      "source": [
        "## **c. Tuning Model Klasifikasi (Optional)**"
      ],
      "metadata": {
        "id": "ph9yIYDXEPuB"
      }
    },
    {
      "cell_type": "markdown",
      "source": [
        "Gunakan GridSearchCV, RandomizedSearchCV, atau metode lainnya untuk mencari kombinasi hyperparameter terbaik"
      ],
      "metadata": {
        "id": "-Bikx3LINv5e"
      }
    },
    {
      "cell_type": "markdown",
      "source": [
        "### 1. Tuning Model Klasifikasi Algoritma Decision Tree"
      ],
      "metadata": {
        "id": "FL0gHOftMcUo"
      }
    },
    {
      "cell_type": "code",
      "source": [
        "# Parameter grid Decision Tree\n",
        "param_dt = {\n",
        "    'max_depth': [3, 5, 10, None],\n",
        "    'min_samples_split': [2, 5, 10],\n",
        "    'criterion': ['gini', 'entropy']\n",
        "}\n",
        "\n",
        "# Inisialisasi GridSearch\n",
        "grid_dt = GridSearchCV(DecisionTreeClassifier(random_state=42), param_grid=param_dt,\n",
        "                       cv=3, scoring='accuracy', n_jobs=-1, verbose=1)\n",
        "\n",
        "# Fit model\n",
        "grid_dt.fit(X_train, y_train)\n",
        "print(\"Best Params Decision Tree:\", grid_dt.best_params_)\n"
      ],
      "metadata": {
        "colab": {
          "base_uri": "https://localhost:8080/"
        },
        "id": "7Uwuv5qwLWGN",
        "outputId": "f9d0c10b-9a42-4e93-ef0a-4a98a1790ee6"
      },
      "execution_count": 18,
      "outputs": [
        {
          "output_type": "stream",
          "name": "stdout",
          "text": [
            "Fitting 3 folds for each of 24 candidates, totalling 72 fits\n",
            "Best Params Decision Tree: {'criterion': 'gini', 'max_depth': 10, 'min_samples_split': 2}\n"
          ]
        }
      ]
    },
    {
      "cell_type": "markdown",
      "source": [
        "### 2. Tuning Model Klasifikasi Algoritma Support Vector Machine"
      ],
      "metadata": {
        "id": "Q3YCOYSeMrLy"
      }
    },
    {
      "cell_type": "code",
      "source": [
        "# Parameter grid Support Vector Machine\n",
        "param_svm = {\n",
        "    'C': [0.1, 1, 10],\n",
        "    'kernel': ['rbf', 'linear'],\n",
        "    'gamma': ['scale', 'auto']\n",
        "}\n",
        "\n",
        "# Inisialisasi GridSearch\n",
        "grid_svm = GridSearchCV(SVC(), param_grid=param_svm, cv=3,\n",
        "                        scoring='accuracy', n_jobs=-1, verbose=1)\n",
        "\n",
        "# Fit Model\n",
        "grid_svm.fit(X_train, y_train)\n",
        "print(\"Best Params SVM:\", grid_svm.best_params_)"
      ],
      "metadata": {
        "colab": {
          "base_uri": "https://localhost:8080/"
        },
        "id": "HldIj0bULfwZ",
        "outputId": "81b66e74-6da8-4a76-f437-17936f203228"
      },
      "execution_count": 13,
      "outputs": [
        {
          "output_type": "stream",
          "name": "stdout",
          "text": [
            "Fitting 3 folds for each of 12 candidates, totalling 36 fits\n",
            "Best Params SVM: {'C': 10, 'gamma': 'auto', 'kernel': 'rbf'}\n"
          ]
        }
      ]
    },
    {
      "cell_type": "markdown",
      "source": [
        "### 3. Tuning Model Klasifikasi Algoritma Random Forest"
      ],
      "metadata": {
        "id": "gOQp6jU7NTcr"
      }
    },
    {
      "cell_type": "code",
      "source": [
        "# Parameter random untuk Random Forest\n",
        "param_rf = {\n",
        "    'n_estimators': [100, 200, 500],\n",
        "    'max_depth': [5, 10, None],\n",
        "    'min_samples_split': [2, 5, 10],\n",
        "    'bootstrap': [True, False]\n",
        "}\n",
        "\n",
        "# Inisialisasi RandomizedSearch\n",
        "random_rf = RandomizedSearchCV(RandomForestClassifier(random_state=42),\n",
        "                               param_distributions=param_rf, n_iter=10,\n",
        "                               cv=3, scoring='accuracy', n_jobs=-1, verbose=1)\n",
        "\n",
        "# Fit model\n",
        "random_rf.fit(X_train, y_train)\n",
        "print(\"Best Params Random Forest:\", random_rf.best_params_)\n"
      ],
      "metadata": {
        "colab": {
          "base_uri": "https://localhost:8080/"
        },
        "id": "awT2r8dALeVi",
        "outputId": "9b47e0c1-363d-4eb2-b230-9ad4f561b96a"
      },
      "execution_count": 14,
      "outputs": [
        {
          "output_type": "stream",
          "name": "stdout",
          "text": [
            "Fitting 3 folds for each of 10 candidates, totalling 30 fits\n",
            "Best Params Random Forest: {'n_estimators': 100, 'min_samples_split': 2, 'max_depth': 10, 'bootstrap': False}\n"
          ]
        }
      ]
    },
    {
      "cell_type": "markdown",
      "source": [
        "### 4. Tuning Model Klasifikasi Algoritma K-Nearest Neighbors"
      ],
      "metadata": {
        "id": "02QgYJhtNoIe"
      }
    },
    {
      "cell_type": "code",
      "source": [
        "# Parameter grid K-Nearest Neighbors\n",
        "param_knn = {\n",
        "    'n_neighbors': [3, 5, 7, 9],\n",
        "    'weights': ['uniform', 'distance'],\n",
        "    'metric': ['euclidean', 'manhattan']\n",
        "}\n",
        "\n",
        "# Inisialisasi GridSearch\n",
        "grid_knn = GridSearchCV(KNeighborsClassifier(), param_grid=param_knn,\n",
        "                        cv=3, scoring='accuracy', n_jobs=-1, verbose=1)\n",
        "\n",
        "# Fit model\n",
        "grid_knn.fit(X_train, y_train)\n",
        "print(\"Best Params KNN:\", grid_knn.best_params_)"
      ],
      "metadata": {
        "colab": {
          "base_uri": "https://localhost:8080/"
        },
        "id": "GZGh7mBgNzyS",
        "outputId": "3eeaa9b8-e6ff-4194-d5b1-f18b3d4c76c9"
      },
      "execution_count": 15,
      "outputs": [
        {
          "output_type": "stream",
          "name": "stdout",
          "text": [
            "Fitting 3 folds for each of 16 candidates, totalling 48 fits\n",
            "Best Params KNN: {'metric': 'manhattan', 'n_neighbors': 3, 'weights': 'distance'}\n"
          ]
        }
      ]
    },
    {
      "cell_type": "markdown",
      "source": [
        "### 5. Tuning Model Klasifikasi Algoritma Naive Bayes"
      ],
      "metadata": {
        "id": "ThTunfZDOHoQ"
      }
    },
    {
      "cell_type": "code",
      "source": [
        "# Parameter grid Naive Bayes\n",
        "param_nb = {\n",
        "    'var_smoothing': [1e-9, 1e-8, 1e-7, 1e-6]\n",
        "}\n",
        "\n",
        "# Inisialisasi GridSearch\n",
        "grid_nb = GridSearchCV(GaussianNB(), param_grid=param_nb,\n",
        "                       cv=3, scoring='accuracy', n_jobs=-1, verbose=1)\n",
        "\n",
        "# Fit model\n",
        "grid_nb.fit(X_train, y_train)\n",
        "print(\"Best Params Naive Bayes:\", grid_nb.best_params_)"
      ],
      "metadata": {
        "colab": {
          "base_uri": "https://localhost:8080/"
        },
        "id": "ghHl1B2mOM1V",
        "outputId": "318eeadd-22ff-4e5a-f799-edcd4a315cf5"
      },
      "execution_count": 16,
      "outputs": [
        {
          "output_type": "stream",
          "name": "stdout",
          "text": [
            "Fitting 3 folds for each of 4 candidates, totalling 12 fits\n",
            "Best Params Naive Bayes: {'var_smoothing': 1e-09}\n"
          ]
        }
      ]
    },
    {
      "cell_type": "code",
      "source": [
        "# Estimator terbaik dari GridSearchCV dan RandomizedSearchCV\n",
        "best_dt = grid_dt.best_estimator_\n",
        "best_rf = random_rf.best_estimator_\n",
        "best_svm = grid_svm.best_estimator_\n",
        "best_knn = grid_knn.best_estimator_\n",
        "best_nb = grid_nb.best_estimator_"
      ],
      "metadata": {
        "id": "N1UxEQ1p-FPg"
      },
      "execution_count": 20,
      "outputs": []
    },
    {
      "cell_type": "markdown",
      "source": [
        "## **d. Evaluasi Model Klasifikasi setelah Tuning (Optional)**"
      ],
      "metadata": {
        "id": "hE7pqlEPEYzI"
      }
    },
    {
      "cell_type": "markdown",
      "source": [
        "Berikut adalah rekomendasi tahapannya.\n",
        "1. Gunakan model dengan hyperparameter terbaik.\n",
        "2. Hitung ulang metrik evaluasi untuk melihat apakah ada peningkatan performa."
      ],
      "metadata": {
        "id": "feaPESoeN0zz"
      }
    },
    {
      "cell_type": "code",
      "source": [
        "# Evaluasi model setelah tuning\n",
        "dt_tuning = evaluate_model(best_dt, X_test, y_test)\n",
        "rf_tuning = evaluate_model(best_rf, X_test, y_test)\n",
        "svm_tuning = evaluate_model(best_svm, X_test, y_test)\n",
        "knn_tuning = evaluate_model(best_knn, X_test, y_test)\n",
        "nb_tuning = evaluate_model(best_nb, X_test, y_test)\n",
        "\n",
        "# Buat dataframe hanya untuk model setelah tuning\n",
        "comparison_after = pd.DataFrame([\n",
        "    {'Model': 'Decision Tree', **dt_tuning},\n",
        "    {'Model': 'Random Forest', **rf_tuning},\n",
        "    {'Model': 'SVM', **svm_tuning},\n",
        "    {'Model': 'KNN', **knn_tuning},\n",
        "    {'Model': 'Naive Bayes', **nb_tuning}\n",
        "])\n",
        "\n",
        "# Drop kolom Confusion Matrix dari tampilan agar fokus ke metrik utama\n",
        "comparison_after_display = comparison_after.drop(columns=['Confusion Matrix'])\n",
        "\n",
        "# Tampilkan hasil\n",
        "print(comparison_after_display)"
      ],
      "metadata": {
        "colab": {
          "base_uri": "https://localhost:8080/"
        },
        "id": "roFLPPUORfqB",
        "outputId": "e60957a9-8fe1-46b0-dc52-ce40866eaead"
      },
      "execution_count": 21,
      "outputs": [
        {
          "output_type": "stream",
          "name": "stdout",
          "text": [
            "           Model  Accuracy  Precision    Recall  F1-Score\n",
            "0  Decision Tree  0.999484   0.999485  0.999484  0.999484\n",
            "1  Random Forest  0.999484   0.999485  0.999484  0.999484\n",
            "2            SVM  0.981949   0.981937  0.981949  0.981902\n",
            "3            KNN  0.945848   0.946547  0.945848  0.945599\n",
            "4    Naive Bayes  0.987622   0.987736  0.987622  0.987642\n"
          ]
        }
      ]
    },
    {
      "cell_type": "markdown",
      "source": [
        "### Analisis:\n",
        "\n",
        "Setelah tuning, algoritma Decision Tree (DT) dan Random Forest (RF) memberikan hasil paling tinggi dan identik pada semua aspek, yaitu accuracy, precision, recall, dan f1-score. Namun, Random Forest biasanya lebih stabil dan tahan terhadap overfitting dibanding Decision Tree karena dia merupakan ensemble dari banyak pohon keputusan. Jadi, secara prinsip, **Random Forest dipilih sebagai model terbaik** karena memiliki keunggulan dalam hal stabilitas dan kemampuan generalisasi. Sebagai algoritma ensemble, Random Forest menggabungkan banyak pohon keputusan sehingga lebih tahan terhadap overfitting dan cenderung memberikan performa yang konsisten pada data baru."
      ],
      "metadata": {
        "id": "g6yl4lmtGQic"
      }
    },
    {
      "cell_type": "code",
      "source": [
        "# Gunakan model terbaik dari tuning\n",
        "final_model = best_rf\n",
        "\n",
        "# Prediksi pada data uji\n",
        "y_pred = final_model.predict(X_test)\n",
        "\n",
        "# Evaluasi metrik lengkap\n",
        "print(\"Classification Report:\")\n",
        "print(classification_report(y_test, y_pred, zero_division=0))\n",
        "\n",
        "# Confusion Matrix\n",
        "cm = confusion_matrix(y_test, y_pred)\n",
        "disp = ConfusionMatrixDisplay(confusion_matrix=cm)\n",
        "disp.plot(cmap='Blues')\n",
        "plt.title(\"Confusion Matrix - Model Terbaik\")\n",
        "plt.show()"
      ],
      "metadata": {
        "colab": {
          "base_uri": "https://localhost:8080/",
          "height": 691
        },
        "id": "9DjnVl0uPYRD",
        "outputId": "246b84b8-f40c-4428-92ed-ec106f4d1a8d"
      },
      "execution_count": 24,
      "outputs": [
        {
          "output_type": "stream",
          "name": "stdout",
          "text": [
            "Classification Report:\n",
            "              precision    recall  f1-score   support\n",
            "\n",
            "           0       1.00      1.00      1.00       287\n",
            "           1       1.00      1.00      1.00       727\n",
            "           2       1.00      1.00      1.00       530\n",
            "           3       1.00      1.00      1.00       395\n",
            "\n",
            "    accuracy                           1.00      1939\n",
            "   macro avg       1.00      1.00      1.00      1939\n",
            "weighted avg       1.00      1.00      1.00      1939\n",
            "\n"
          ]
        },
        {
          "output_type": "display_data",
          "data": {
            "text/plain": [
              "<Figure size 640x480 with 2 Axes>"
            ],
            "image/png": "[encoded data removed]"
          },
          "metadata": {}
        }
      ]
    },
    {
      "cell_type": "markdown",
      "source": [
        "### Kesimpulan:\n",
        "\n",
        "Berdasarkan confusion matrix dari model terbaik, yaitu **Random Forest**, model mampu mengklasifikasikan data dengan sangat akurat pada seluruh kelas. Data pada kelas 0, 1, dan 2 sepenuhnya diprediksi dengan benar, tanpa ada kesalahan. Hanya pada kelas 3 terdapat 1 data yang diprediksi sebagai kelas 1 atau False Positive. Dengan total kesalahan hanya 1 dari 1.938 data, model ini menunjukkan performa klasifikasi yang sangat tinggi dan presisi. Hal ini menandakan bahwa Random Forest sangat andal dalam membedakan tiap kelas, tidak menunjukkan gejala overfitting maupun underfitting, dan cocok diterapkan pada data serupa secara konsisten."
      ],
      "metadata": {
        "id": "uzytjZ_eU99o"
      }
    },
    {
      "cell_type": "markdown",
      "source": [
        "## **e. Analisis Hasil Evaluasi Model Klasifikasi**"
      ],
      "metadata": {
        "id": "ZRsOdm4uEgAW"
      }
    },
    {
      "cell_type": "markdown",
      "source": [
        "Berikut adalah **rekomendasi** tahapannya.\n",
        "1. Bandingkan hasil evaluasi sebelum dan setelah tuning (jika dilakukan).\n",
        "2. Identifikasi kelemahan model, seperti:\n",
        "  - Precision atau Recall rendah untuk kelas tertentu.\n",
        "  - Apakah model mengalami overfitting atau underfitting?\n",
        "3. Berikan rekomendasi tindakan lanjutan, seperti mengumpulkan data tambahan atau mencoba algoritma lain jika hasil belum memuaskan."
      ],
      "metadata": {
        "id": "Hm3BhSi6N4_l"
      }
    },
    {
      "cell_type": "code",
      "source": [
        "# Model sebelum tuning\n",
        "dt = DecisionTreeClassifier().fit(X_train, y_train)\n",
        "rf = RandomForestClassifier().fit(X_train, y_train)\n",
        "svm = SVC().fit(X_train, y_train)\n",
        "knn = KNeighborsClassifier().fit(X_train, y_train)\n",
        "rf = RandomForestClassifier().fit(X_train, y_train)\n",
        "nb = GaussianNB().fit(X_train, y_train)\n",
        "\n",
        "# Evaluasi\n",
        "dt_before = evaluate_model(dt, X_test, y_test)\n",
        "rf_before = evaluate_model(rf, X_test, y_test)\n",
        "svm_before = evaluate_model(svm, X_test, y_test)\n",
        "knn_before = evaluate_model(knn, X_test, y_test)\n",
        "rf_before = evaluate_model(rf, X_test, y_test)\n",
        "nb_before = evaluate_model(nb, X_test, y_test)\n",
        "\n",
        "# Model setelah tuning\n",
        "best_dt = grid_dt.best_estimator_\n",
        "best_rf = random_rf.best_estimator_\n",
        "best_svm = grid_svm.best_estimator_\n",
        "best_knn = grid_knn.best_estimator_\n",
        "best_rf = random_rf.best_estimator_\n",
        "best_nb = grid_nb.best_estimator_\n",
        "\n",
        "# Evaluasi ulang\n",
        "dt_after = evaluate_model(best_dt, X_test, y_test)\n",
        "rf_after = evaluate_model(best_rf, X_test, y_test)\n",
        "svm_after = evaluate_model(best_svm, X_test, y_test)\n",
        "knn_after = evaluate_model(best_knn, X_test, y_test)\n",
        "rf_after = evaluate_model(best_rf, X_test, y_test)\n",
        "nb_after = evaluate_model(best_nb, X_test, y_test)\n",
        "\n",
        "# Buat dataframe\n",
        "comparison = pd.DataFrame([\n",
        "    {'Model': 'Decision Tree', 'Versi': 'Sebelum Tuning', **dt_before},\n",
        "    {'Model': 'Decision Tree', 'Versi': 'Sesudah Tuning', **dt_after},\n",
        "    {'Model': 'Random Forest', 'Versi': 'Sebelum Tuning', **rf_before},\n",
        "    {'Model': 'Random Forest', 'Versi': 'Sesudah Tuning', **rf_after},\n",
        "    {'Model': 'SVM', 'Versi': 'Sebelum Tuning', **svm_before},\n",
        "    {'Model': 'SVM', 'Versi': 'Sesudah Tuning', **svm_after},\n",
        "    {'Model': 'KNN', 'Versi': 'Sebelum Tuning', **knn_before},\n",
        "    {'Model': 'KNN', 'Versi': 'Sesudah Tuning', **knn_after},\n",
        "    {'Model': 'Naive Bayes', 'Versi': 'Sebelum Tuning', **nb_before},\n",
        "    {'Model': 'Naive Bayes', 'Versi': 'Sesudah Tuning', **nb_after}\n",
        "])\n",
        "\n",
        "# Drop Confusion Matrix dari tampilan agar fokus ke metrik\n",
        "comparison_display = comparison.drop(columns=['Confusion Matrix'])\n",
        "\n",
        "# Tampilkan tabel perbandingan\n",
        "print(comparison_display)\n"
      ],
      "metadata": {
        "colab": {
          "base_uri": "https://localhost:8080/"
        },
        "id": "lefXwBlgT14G",
        "outputId": "577f69d4-4a3e-4ffc-c1f9-335f8a438371"
      },
      "execution_count": 26,
      "outputs": [
        {
          "output_type": "stream",
          "name": "stdout",
          "text": [
            "           Model           Versi  Accuracy  Precision    Recall  F1-Score\n",
            "0  Decision Tree  Sebelum Tuning  0.999484   0.999485  0.999484  0.999484\n",
            "1  Decision Tree  Sesudah Tuning  0.999484   0.999485  0.999484  0.999484\n",
            "2  Random Forest  Sebelum Tuning  0.998453   0.998457  0.998453  0.998452\n",
            "3  Random Forest  Sesudah Tuning  0.999484   0.999485  0.999484  0.999484\n",
            "4            SVM  Sebelum Tuning  0.722022   0.757779  0.722022  0.725656\n",
            "5            SVM  Sesudah Tuning  0.981949   0.981937  0.981949  0.981902\n",
            "6            KNN  Sebelum Tuning  0.920578   0.921449  0.920578  0.920048\n",
            "7            KNN  Sesudah Tuning  0.945848   0.946547  0.945848  0.945599\n",
            "8    Naive Bayes  Sebelum Tuning  0.987622   0.987736  0.987622  0.987642\n",
            "9    Naive Bayes  Sesudah Tuning  0.987622   0.987736  0.987622  0.987642\n"
          ]
        }
      ]
    },
    {
      "cell_type": "markdown",
      "source": [
        "### Analisis\n",
        "\n",
        "**1. Decision Tree**\n",
        "\n",
        "  Decision Tree sejak awal sudah menunjukkan performa sangat tinggi dengan akurasi dan F1-score mencapai 99.95%, dan tidak mengalami peningkatan setelah tuning. Ini menandakan bahwa model sudah optimal bahkan tanpa penyesuaian hyperparameter. Model ini stabil dan tidak menunjukkan overfitting. Rekomendasinya, DT sudah sangat layak digunakan langsung, namun tetap perlu pengujian berkala jika data bertambah atau berubah signifikan.\n",
        "\n",
        "**2. Random Forest**\n",
        "\n",
        "  Random Forest mengalami sedikit peningkatan dari 99.85% menjadi 99.95% setelah tuning, sehingga hasil akhirnya menyamai Decision Tree. Model ini sangat akurat dan memiliki keunggulan dalam stabilitas karena bersifat ensemble. Rekomendasinya, RF cocok dipilih jika ingin model yang lebih tahan terhadap variasi data, meski lebih kompleks dari segi interpretasi.\n",
        "\n",
        "**3. SVM (Support Vector Machine)**\n",
        "\n",
        "  SVM menunjukkan peningkatan drastis setelah tuning, dari akurasi 72.20% menjadi 98.19%. Ini menunjukkan tuning sangat krusial bagi SVM, karena default hyperparameter menyebabkan underfitting. Setelah tuning, model sangat kompetitif dengan metrik tinggi dan stabil. Rekomendasinya, SVM setelah tuning bisa menjadi model andalan, terutama jika data berskala kecil hingga sedang, dan jika stabilitas model menjadi prioritas.\n",
        "\n",
        "**4. KNN (K-Nearest Neighbors)**\n",
        "\n",
        "  KNN meningkat dari 92.06% menjadi 94.58% pasca tuning. Meski tidak setinggi DT, RF, atau SVM, peningkatannya menunjukkan model cukup responsif terhadap tuning. Model ini cenderung lebih sensitif terhadap skala data dan noise. Karena metriknya sudah cukup tinggi setelah tuning dan tidak menunjukkan gejala overfitting, KNN bisa dijadikan alternatif model jika interpretasi sederhana berbasis kedekatan data dibutuhkan. Rekomendasinya, disarankan untuk melakukan normalisasi atau scaling jika data sangat bervariasi dalam skala.\n",
        "\n",
        "**5. Naive Bayes**\n",
        "\n",
        "  Naive Bayes tidak mengalami peningkatan apapun setelah tuning, tetap di angka 98.76% akurasi. Performanya cukup tinggi, namun tidak sebaik model lain. Karena kecepatan dan efisiensinya, NB cocok untuk penggunaan cepat, namun asumsi independensi antar fitur tetap menjadi batasan. Rekomendasinya, jika hasil tuning ini konsisten di data lain, NB bisa digunakan karena ringan dan cepat. Namun, tetap perlu pengujian lebih lanjut terhadap kestabilannya, terutama pada data baru."
      ],
      "metadata": {
        "id": "15xPB2jmTHHa"
      }
    }
  ]
}